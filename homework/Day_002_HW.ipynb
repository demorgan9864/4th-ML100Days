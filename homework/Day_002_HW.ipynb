{
 "cells": [
  {
   "cell_type": "markdown",
   "metadata": {},
   "source": [
    "## [作業目標]\n",
    "了解機器學習適合應用的領域與範疇。"
   ]
  },
  {
   "cell_type": "markdown",
   "metadata": {},
   "source": [
    "## [作業重點]\n",
    "透過瞭解機器學習的運作方式，找出非常適用機器學習應用的領域及其原因"
   ]
  },
  {
   "cell_type": "markdown",
   "metadata": {},
   "source": [
    "## 作業\n",
    "請找出一個你認為機器學習可以發光發熱的領域並闡述原因? "
   ]
  },
  {
   "cell_type": "code",
   "execution_count": null,
   "metadata": {},
   "outputs": [],
   "source": [
    "   醫學領域是一個很有潛力發展機器學習的領域，近年來已經有不少研究針對影像學的部分來結合機器學習，藉此增加診斷正確率。影像資料庫的取得難易度並不算太難，且資料庫的數量通常也足夠訓練機器。\n",
    "    舉例來說，肺癌因為症狀不典型，是一個被診斷後常常是後期的癌症，也造成病人的預後不佳。而目前已經證實，藉由LDCT可以幫助high-risk病患減少死亡率，\n",
    "    而人工的判讀影像往往很耗時，這裡便可以訓練機器來幫助判讀LDCT中可能是cancer的部分。"
   ]
  }
 ],
 "metadata": {
  "kernelspec": {
   "display_name": "Python 3",
   "language": "python",
   "name": "python3"
  },
  "language_info": {
   "codemirror_mode": {
    "name": "ipython",
    "version": 3
   },
   "file_extension": ".py",
   "mimetype": "text/x-python",
   "name": "python",
   "nbconvert_exporter": "python",
   "pygments_lexer": "ipython3",
   "version": "3.7.4"
  }
 },
 "nbformat": 4,
 "nbformat_minor": 2
}
